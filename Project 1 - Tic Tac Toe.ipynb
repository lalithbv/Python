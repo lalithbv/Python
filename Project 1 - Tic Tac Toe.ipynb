{
 "cells": [
  {
   "cell_type": "markdown",
   "metadata": {},
   "source": [
    "# Project 1: Tic Tac Toe\n",
    "\n",
    "This program does the following:\n",
    "\n",
    "> * Two players will be able to play the game (both sitting at the same computer)\n",
    "> * The board will be printed out every time a player makes a move\n",
    "> * User input i.e the position of 'X' or 'O' is accepted and then the symbol is placed on the board"
   ]
  },
  {
   "cell_type": "markdown",
   "metadata": {},
   "source": [
    "**display_board(board) function will print out a Tic Tac Toe 3x3 board. <br>\n",
    "Board is set up as a list, where each index 1-9 corresponds with a number on a number pad**"
   ]
  },
  {
   "cell_type": "code",
   "execution_count": 1,
   "metadata": {},
   "outputs": [],
   "source": [
    "from IPython.display import clear_output\n",
    "\n",
    "def display_board(board):\n",
    "    clear_output()\n",
    "    \n",
    "    print(\"For Reference:\\n\")\n",
    "    print(\"\\t|\\t|\\t\")\n",
    "    print(f\"   7 \\t|   8\\t|   9\")\n",
    "    print(\"\\t|\\t|\\t\")\n",
    "    print(\"-------------------------\")\n",
    "    print(\"\\t|\\t|\\t\")\n",
    "    print(f\"   4 \\t|   5\\t|   6\")\n",
    "    print(\"\\t|\\t|\\t\")\n",
    "    print(\"-------------------------\")\n",
    "    print(\"\\t|\\t|\\t\")\n",
    "    print(f\"   1 \\t|   2\\t|   3\")\n",
    "    print(\"\\t|\\t|\\t\")\n",
    "    print(\"\\n\\nBoard:\\n\")\n",
    "    print(\"\\t|\\t|\\t\")\n",
    "    print(f\"   {board[7]} \\t|   {board[8]}\\t|   {board[9]}\")\n",
    "    print(\"\\t|\\t|\\t\")\n",
    "    print(\"-------------------------\")\n",
    "    print(\"\\t|\\t|\\t\")\n",
    "    print(f\"   {board[4]} \\t|   {board[5]}\\t|   {board[6]}\")\n",
    "    print(\"\\t|\\t|\\t\")\n",
    "    print(\"-------------------------\")\n",
    "    print(\"\\t|\\t|\\t\")\n",
    "    print(f\"   {board[1]} \\t|   {board[2]}\\t|   {board[3]}\")\n",
    "    print(\"\\t|\\t|\\t\")"
   ]
  },
  {
   "cell_type": "markdown",
   "metadata": {},
   "source": [
    "**TEST :**"
   ]
  },
  {
   "cell_type": "code",
   "execution_count": 2,
   "metadata": {},
   "outputs": [
    {
     "name": "stdout",
     "output_type": "stream",
     "text": [
      "For Reference:\n",
      "\n",
      "\t|\t|\t\n",
      "   7 \t|   8\t|   9\n",
      "\t|\t|\t\n",
      "-------------------------\n",
      "\t|\t|\t\n",
      "   4 \t|   5\t|   6\n",
      "\t|\t|\t\n",
      "-------------------------\n",
      "\t|\t|\t\n",
      "   1 \t|   2\t|   3\n",
      "\t|\t|\t\n",
      "\n",
      "\n",
      "Board:\n",
      "\t|\t|\t\n",
      "   X \t|   O\t|   X\n",
      "\t|\t|\t\n",
      "-------------------------\n",
      "\t|\t|\t\n",
      "   O \t|   X\t|   O\n",
      "\t|\t|\t\n",
      "-------------------------\n",
      "\t|\t|\t\n",
      "   X \t|   O\t|   X\n",
      "\t|\t|\t\n"
     ]
    }
   ],
   "source": [
    "test_board = ['#','X','O','X','O','X','O','X','O','X']\n",
    "display_board(test_board)"
   ]
  },
  {
   "cell_type": "markdown",
   "metadata": {},
   "source": [
    "**player_input() function will take in a player input and assign their marker as 'X' or 'O'. <br>\n",
    "    *while* loop is used to continually prompt until a valid user input.**"
   ]
  },
  {
   "cell_type": "code",
   "execution_count": 3,
   "metadata": {},
   "outputs": [],
   "source": [
    "def player_input():\n",
    "    \n",
    "    marker = ''\n",
    "    \n",
    "    while not (marker == 'X' or marker == 'O'):\n",
    "        marker = input(f'{player1_name}, do you want to be X or O? ').upper()\n",
    "\n",
    "    if marker == 'X':\n",
    "        return ('X', 'O')\n",
    "    else:\n",
    "        return ('O', 'X')\n",
    "            "
   ]
  },
  {
   "cell_type": "markdown",
   "metadata": {},
   "source": [
    "**place_marker(board, marker, position) function takes in the board list object, a marker ('X' or 'O'), a desired position (number 1-9) and assigns it to the board.**"
   ]
  },
  {
   "cell_type": "code",
   "execution_count": 4,
   "metadata": {},
   "outputs": [],
   "source": [
    "def place_marker(board, marker, position):\n",
    "    \n",
    "    board[position] = marker"
   ]
  },
  {
   "cell_type": "markdown",
   "metadata": {},
   "source": [
    "**win_check(board, mark) function takes in a board and a mark (X or O), and then checks if that mark has won.**"
   ]
  },
  {
   "cell_type": "code",
   "execution_count": 6,
   "metadata": {},
   "outputs": [],
   "source": [
    "def win_check(board, mark):\n",
    "    \n",
    "    return ((board[7] == mark and board[8] == mark and board[9] == mark) or # across the top\n",
    "    (board[4] == mark and board[5] == mark and board[6] == mark) or # across the middle\n",
    "    (board[1] == mark and board[2] == mark and board[3] == mark) or # across the bottom\n",
    "    (board[7] == mark and board[4] == mark and board[1] == mark) or # down the middle\n",
    "    (board[8] == mark and board[5] == mark and board[2] == mark) or # down the middle\n",
    "    (board[9] == mark and board[6] == mark and board[3] == mark) or # down the right side\n",
    "    (board[7] == mark and board[5] == mark and board[3] == mark) or # diagonal\n",
    "    (board[9] == mark and board[5] == mark and board[1] == mark)) # diagonal\n",
    "        "
   ]
  },
  {
   "cell_type": "markdown",
   "metadata": {},
   "source": [
    "**choose_first() function uses the random module to randomly decide which player goes first.**"
   ]
  },
  {
   "cell_type": "code",
   "execution_count": 7,
   "metadata": {},
   "outputs": [],
   "source": [
    "import random\n",
    "\n",
    "def choose_first(player1_name, player2_name):\n",
    "    if random.randint(0, 1) == 0:\n",
    "        return player2_name\n",
    "    else:\n",
    "        return player1_name"
   ]
  },
  {
   "cell_type": "markdown",
   "metadata": {},
   "source": [
    "**space_check(board, position) function returns a boolean indicating whether a space on the board is freely available.**"
   ]
  },
  {
   "cell_type": "code",
   "execution_count": 8,
   "metadata": {},
   "outputs": [],
   "source": [
    "def space_check(board, position):\n",
    "    return board[position] == ' '"
   ]
  },
  {
   "cell_type": "markdown",
   "metadata": {},
   "source": [
    "**full_board_check(board) function checks if the board is full and returns a boolean value. True if full, False otherwise.**"
   ]
  },
  {
   "cell_type": "code",
   "execution_count": 9,
   "metadata": {},
   "outputs": [],
   "source": [
    "def full_board_check(board):\n",
    "    \n",
    "    for i in range(1,10):\n",
    "        if space_check(board, i):\n",
    "            return False\n",
    "        \n",
    "    return True"
   ]
  },
  {
   "cell_type": "markdown",
   "metadata": {},
   "source": [
    "**player_choice(board) function asks for a player's next position (as a number 1-9) and then uses the function space_check(board, position) to check if it's a free position. If it is, then position is returned for later use.**"
   ]
  },
  {
   "cell_type": "code",
   "execution_count": 10,
   "metadata": {},
   "outputs": [],
   "source": [
    "def player_choice(board):\n",
    "    \n",
    "    position = 0\n",
    "    \n",
    "    while position not in [1,2,3,4,5,6,7,8,9] or not space_check(board, position):\n",
    "        position = input('Choose your next position(1-9): ')\n",
    "        if position.isnumeric():\n",
    "            position = int(position)        \n",
    "        \n",
    "    return position"
   ]
  },
  {
   "cell_type": "markdown",
   "metadata": {},
   "source": [
    "**replay() function asks the player if they want to play again and returns a boolean True if they do want to play again.**"
   ]
  },
  {
   "cell_type": "code",
   "execution_count": 11,
   "metadata": {},
   "outputs": [],
   "source": [
    "def replay():\n",
    "    \n",
    "    return input('\\nDo you want to play again? Enter Yes or No: ').lower().startswith('y')"
   ]
  },
  {
   "cell_type": "code",
   "execution_count": 12,
   "metadata": {},
   "outputs": [
    {
     "name": "stdout",
     "output_type": "stream",
     "text": [
      "For Reference:\n",
      "\n",
      "\t|\t|\t\n",
      "   7 \t|   8\t|   9\n",
      "\t|\t|\t\n",
      "-------------------------\n",
      "\t|\t|\t\n",
      "   4 \t|   5\t|   6\n",
      "\t|\t|\t\n",
      "-------------------------\n",
      "\t|\t|\t\n",
      "   1 \t|   2\t|   3\n",
      "\t|\t|\t\n",
      "\n",
      "\n",
      "Board:\n",
      "\t|\t|\t\n",
      "     \t|    \t|   O\n",
      "\t|\t|\t\n",
      "-------------------------\n",
      "\t|\t|\t\n",
      "     \t|   O\t|   X\n",
      "\t|\t|\t\n",
      "-------------------------\n",
      "\t|\t|\t\n",
      "   O \t|   X\t|    \n",
      "\t|\t|\t\n",
      "king has won!\n",
      "Do you want to play again? Enter Yes or No: n\n"
     ]
    }
   ],
   "source": [
    "print('Welcome to Tic Tac Toe by Lalith B V!')\n",
    "player1_name = input('\\nPlease enter first player\\'s name: ')\n",
    "player2_name = input('Please enter second player\\'s name: ')\n",
    "\n",
    "while True:\n",
    "    # Reset the board\n",
    "    theBoard = [' '] * 10\n",
    "    player1_marker, player2_marker = player_input()\n",
    "    turn = choose_first(player1_name, player2_name)\n",
    "    print(turn + ' will go first.')\n",
    "    \n",
    "    play_game = input('\\nAre you ready to play? Please enter Yes or No. ')\n",
    "    \n",
    "    while not (play_game.lower()[0] == 'y' or play_game.lower()[0] == 'n'):\n",
    "        \n",
    "        play_game = input('\\nAre you ready to play? Please enter Yes or No. ')\n",
    "            \n",
    "    if play_game.lower()[0] == 'y':\n",
    "        game_on = True\n",
    "    else:\n",
    "        game_on = False\n",
    "            \n",
    "\n",
    "    while game_on:\n",
    "        if turn == player1_name:\n",
    "            # Player1's turn.\n",
    "            \n",
    "            display_board(theBoard)\n",
    "            position = player_choice(theBoard)\n",
    "            place_marker(theBoard, player1_marker, position)\n",
    "\n",
    "            if win_check(theBoard, player1_marker):\n",
    "                display_board(theBoard)\n",
    "                print(f'\\nCongratulations {player1_name}! You have won the game!')\n",
    "                game_on = False\n",
    "            else:\n",
    "                if full_board_check(theBoard):\n",
    "                    display_board(theBoard)\n",
    "                    print('\\nThe game is a draw!')\n",
    "                    break\n",
    "                else:\n",
    "                    turn = player2_name\n",
    "\n",
    "        else:\n",
    "            # Player2's turn.\n",
    "            \n",
    "            display_board(theBoard)\n",
    "            position = player_choice(theBoard)\n",
    "            place_marker(theBoard, player2_marker, position)\n",
    "\n",
    "            if win_check(theBoard, player2_marker):\n",
    "                display_board(theBoard)\n",
    "                print(f'{player2_name} has won!')\n",
    "                game_on = False\n",
    "            else:\n",
    "                if full_board_check(theBoard):\n",
    "                    display_board(theBoard)\n",
    "                    print('\\nThe game is a draw!')\n",
    "                    break\n",
    "                else:\n",
    "                    turn = player1_name\n",
    "\n",
    "    if not replay():\n",
    "        break"
   ]
  }
 ],
 "metadata": {
  "kernelspec": {
   "display_name": "Python 3",
   "language": "python",
   "name": "python3"
  },
  "language_info": {
   "codemirror_mode": {
    "name": "ipython",
    "version": 3
   },
   "file_extension": ".py",
   "mimetype": "text/x-python",
   "name": "python",
   "nbconvert_exporter": "python",
   "pygments_lexer": "ipython3",
   "version": "3.7.6"
  }
 },
 "nbformat": 4,
 "nbformat_minor": 1
}
